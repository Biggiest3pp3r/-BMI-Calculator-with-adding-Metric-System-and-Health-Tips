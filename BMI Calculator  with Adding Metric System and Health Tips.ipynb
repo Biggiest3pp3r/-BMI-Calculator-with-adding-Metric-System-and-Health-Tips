{
 "cells": [
  {
   "cell_type": "code",
   "execution_count": 8,
   "id": "f983ff7d-5b5e-4f26-aa5a-2f1ebd463f57",
   "metadata": {},
   "outputs": [
    {
     "name": "stdin",
     "output_type": "stream",
     "text": [
      "Enter your name:  shawn\n",
      "Would you like to use metric or imperial units?  metric\n",
      "Enter your weight in kilograms:  117\n",
      "Enter your height in meters:  1.83\n"
     ]
    },
    {
     "name": "stdout",
     "output_type": "stream",
     "text": [
      "Your BMI is 34.94\n",
      "Seek medical advice to create a weight-loss plan suited to your health needs.\n"
     ]
    }
   ],
   "source": [
    "def calculate_bmi(weight, height, unit=\"imperial\"):\n",
    "    if unit == \"metric\":\n",
    "        bmi = weight / (height ** 2)  # weight in kg, height in meters\n",
    "    else:\n",
    "        bmi = (weight * 703) / (height * height)  # weight in lbs, height in inches\n",
    "    return bmi\n",
    "\n",
    "def provide_health_tips(bmi):\n",
    "    if bmi < 18.5:\n",
    "        return \"Consider consuming a balanced diet rich in nutrients to reach a healthy weight.\"\n",
    "    elif 18.5 <= bmi <= 24.9:\n",
    "        return \"Great! Maintain a balanced diet and regular physical activity.\"\n",
    "    elif 25 <= bmi <= 29.9:\n",
    "        return \"Incorporate regular exercise and a healthy diet to lower your BMI.\"\n",
    "    elif 30 <= bmi <= 34.9:\n",
    "        return \"Consult with a healthcare professional for personalized advice.\"\n",
    "    else:\n",
    "        return \"Seek medical advice to create a weight-loss plan suited to your health needs.\"\n",
    "\n",
    "name = input(\"Enter your name: \")\n",
    "\n",
    "unit = input(\"Would you like to use metric or imperial units? \").lower()\n",
    "\n",
    "if unit == \"metric\":\n",
    "    weight = float(input(\"Enter your weight in kilograms: \"))\n",
    "    height = float(input(\"Enter your height in meters: \"))\n",
    "else:\n",
    "    weight = float(input(\"Enter your weight in pounds: \"))\n",
    "    height = float(input(\"Enter your height in inches: \"))\n",
    "\n",
    "bmi = calculate_bmi(weight, height, unit)\n",
    "\n",
    "print(f\"Your BMI is {bmi:.2f}\")\n",
    "print(provide_health_tips(bmi))"
   ]
  },
  {
   "cell_type": "code",
   "execution_count": null,
   "id": "0e625c6c-1bc2-41f1-9a20-bc8e49253644",
   "metadata": {},
   "outputs": [],
   "source": []
  },
  {
   "cell_type": "code",
   "execution_count": null,
   "id": "f7b5f690-fc6b-4299-ad3b-a5c41cc6b8e9",
   "metadata": {},
   "outputs": [],
   "source": []
  },
  {
   "cell_type": "code",
   "execution_count": null,
   "id": "3bf68235-4ad5-4cca-99bc-07abef70364f",
   "metadata": {},
   "outputs": [],
   "source": []
  },
  {
   "cell_type": "code",
   "execution_count": null,
   "id": "fc314c51-f60d-4ac8-8091-81908769cffd",
   "metadata": {},
   "outputs": [],
   "source": []
  },
  {
   "cell_type": "code",
   "execution_count": null,
   "id": "5238191c-1082-4002-ad9e-0e330fb17b34",
   "metadata": {},
   "outputs": [],
   "source": []
  },
  {
   "cell_type": "code",
   "execution_count": null,
   "id": "dcaf0388-3b74-49cc-918f-dccca75829d8",
   "metadata": {},
   "outputs": [],
   "source": []
  },
  {
   "cell_type": "code",
   "execution_count": null,
   "id": "b8f5a34c-a036-49d1-9520-a483055d57af",
   "metadata": {},
   "outputs": [],
   "source": []
  },
  {
   "cell_type": "code",
   "execution_count": null,
   "id": "765b57cf-3782-47fb-922a-e290f1cbd016",
   "metadata": {},
   "outputs": [],
   "source": []
  },
  {
   "cell_type": "code",
   "execution_count": null,
   "id": "6a4cdde9-484a-47bd-ae72-360b1fe2762a",
   "metadata": {},
   "outputs": [],
   "source": []
  }
 ],
 "metadata": {
  "kernelspec": {
   "display_name": "Python 3 (ipykernel)",
   "language": "python",
   "name": "python3"
  },
  "language_info": {
   "codemirror_mode": {
    "name": "ipython",
    "version": 3
   },
   "file_extension": ".py",
   "mimetype": "text/x-python",
   "name": "python",
   "nbconvert_exporter": "python",
   "pygments_lexer": "ipython3",
   "version": "3.12.4"
  }
 },
 "nbformat": 4,
 "nbformat_minor": 5
}
